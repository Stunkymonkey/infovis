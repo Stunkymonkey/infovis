{
 "cells": [
  {
   "cell_type": "code",
   "execution_count": 1,
   "metadata": {},
   "outputs": [],
   "source": [
    "import pandas as pd\n",
    "import numpy as np"
   ]
  },
  {
   "cell_type": "code",
   "execution_count": 15,
   "metadata": {},
   "outputs": [],
   "source": [
    "import matplotlib.pyplot as plt\n",
    "plt.rcParams['figure.figsize'] = [10, 8]"
   ]
  },
  {
   "cell_type": "code",
   "execution_count": 3,
   "metadata": {},
   "outputs": [],
   "source": [
    "df = pd.read_csv(\"happiness_development.csv\")"
   ]
  },
  {
   "cell_type": "code",
   "execution_count": 4,
   "metadata": {},
   "outputs": [],
   "source": [
    "def truth():\n",
    "    return \"Jan kann nicht programmieren\""
   ]
  },
  {
   "cell_type": "code",
   "execution_count": 5,
   "metadata": {},
   "outputs": [
    {
     "data": {
      "text/html": [
       "<div>\n",
       "<style scoped>\n",
       "    .dataframe tbody tr th:only-of-type {\n",
       "        vertical-align: middle;\n",
       "    }\n",
       "\n",
       "    .dataframe tbody tr th {\n",
       "        vertical-align: top;\n",
       "    }\n",
       "\n",
       "    .dataframe thead th {\n",
       "        text-align: right;\n",
       "    }\n",
       "</style>\n",
       "<table border=\"1\" class=\"dataframe\">\n",
       "  <thead>\n",
       "    <tr style=\"text-align: right;\">\n",
       "      <th></th>\n",
       "      <th>country</th>\n",
       "      <th>happiness_rank</th>\n",
       "      <th>happiness_score</th>\n",
       "      <th>economy</th>\n",
       "      <th>family</th>\n",
       "      <th>health</th>\n",
       "      <th>freedom</th>\n",
       "      <th>generosity</th>\n",
       "      <th>corruption</th>\n",
       "      <th>dystopia_residual</th>\n",
       "      <th>...</th>\n",
       "      <th>Quintile ratio</th>\n",
       "      <th>Palma ratio</th>\n",
       "      <th>Gini coefficient</th>\n",
       "      <th>HDI rank</th>\n",
       "      <th>Human Development Index</th>\n",
       "      <th>Life expectancy at birth [years]</th>\n",
       "      <th>Expected years of schooling [years]</th>\n",
       "      <th>Mean years of schooling [years]</th>\n",
       "      <th>Gross national income (GNI) per capita [$]</th>\n",
       "      <th>HDI  Rank 2016</th>\n",
       "    </tr>\n",
       "  </thead>\n",
       "  <tbody>\n",
       "    <tr>\n",
       "      <td>0</td>\n",
       "      <td>Norway</td>\n",
       "      <td>1</td>\n",
       "      <td>7.537</td>\n",
       "      <td>1.616463</td>\n",
       "      <td>1.533524</td>\n",
       "      <td>0.796667</td>\n",
       "      <td>0.635423</td>\n",
       "      <td>0.362012</td>\n",
       "      <td>0.315964</td>\n",
       "      <td>2.277027</td>\n",
       "      <td>...</td>\n",
       "      <td>4.1</td>\n",
       "      <td>1.0</td>\n",
       "      <td>27.5</td>\n",
       "      <td>1</td>\n",
       "      <td>0.953</td>\n",
       "      <td>82.3</td>\n",
       "      <td>17.9</td>\n",
       "      <td>12.6</td>\n",
       "      <td>68,012</td>\n",
       "      <td>1</td>\n",
       "    </tr>\n",
       "    <tr>\n",
       "      <td>1</td>\n",
       "      <td>Denmark</td>\n",
       "      <td>2</td>\n",
       "      <td>7.522</td>\n",
       "      <td>1.482383</td>\n",
       "      <td>1.551122</td>\n",
       "      <td>0.792566</td>\n",
       "      <td>0.626007</td>\n",
       "      <td>0.355280</td>\n",
       "      <td>0.400770</td>\n",
       "      <td>2.313707</td>\n",
       "      <td>...</td>\n",
       "      <td>4.0</td>\n",
       "      <td>1.0</td>\n",
       "      <td>28.2</td>\n",
       "      <td>11</td>\n",
       "      <td>0.929</td>\n",
       "      <td>80.9</td>\n",
       "      <td>19.1</td>\n",
       "      <td>12.6</td>\n",
       "      <td>47,918</td>\n",
       "      <td>10</td>\n",
       "    </tr>\n",
       "    <tr>\n",
       "      <td>2</td>\n",
       "      <td>Iceland</td>\n",
       "      <td>3</td>\n",
       "      <td>7.504</td>\n",
       "      <td>1.480633</td>\n",
       "      <td>1.610574</td>\n",
       "      <td>0.833552</td>\n",
       "      <td>0.627163</td>\n",
       "      <td>0.475540</td>\n",
       "      <td>0.153527</td>\n",
       "      <td>2.322715</td>\n",
       "      <td>...</td>\n",
       "      <td>3.6</td>\n",
       "      <td>0.9</td>\n",
       "      <td>25.6</td>\n",
       "      <td>6</td>\n",
       "      <td>0.935</td>\n",
       "      <td>82.9</td>\n",
       "      <td>19.3</td>\n",
       "      <td>12.4</td>\n",
       "      <td>45,810</td>\n",
       "      <td>6</td>\n",
       "    </tr>\n",
       "    <tr>\n",
       "      <td>3</td>\n",
       "      <td>Switzerland</td>\n",
       "      <td>4</td>\n",
       "      <td>7.494</td>\n",
       "      <td>1.564980</td>\n",
       "      <td>1.516912</td>\n",
       "      <td>0.858131</td>\n",
       "      <td>0.620071</td>\n",
       "      <td>0.290549</td>\n",
       "      <td>0.367007</td>\n",
       "      <td>2.276716</td>\n",
       "      <td>...</td>\n",
       "      <td>5.2</td>\n",
       "      <td>1.3</td>\n",
       "      <td>32.5</td>\n",
       "      <td>2</td>\n",
       "      <td>0.944</td>\n",
       "      <td>83.5</td>\n",
       "      <td>16.2</td>\n",
       "      <td>13.4</td>\n",
       "      <td>57,625</td>\n",
       "      <td>2</td>\n",
       "    </tr>\n",
       "    <tr>\n",
       "      <td>4</td>\n",
       "      <td>Finland</td>\n",
       "      <td>5</td>\n",
       "      <td>7.469</td>\n",
       "      <td>1.443572</td>\n",
       "      <td>1.540247</td>\n",
       "      <td>0.809158</td>\n",
       "      <td>0.617951</td>\n",
       "      <td>0.245483</td>\n",
       "      <td>0.382612</td>\n",
       "      <td>2.430182</td>\n",
       "      <td>...</td>\n",
       "      <td>3.9</td>\n",
       "      <td>1.0</td>\n",
       "      <td>27.1</td>\n",
       "      <td>15</td>\n",
       "      <td>0.920</td>\n",
       "      <td>81.5</td>\n",
       "      <td>17.6</td>\n",
       "      <td>12.4</td>\n",
       "      <td>41,002</td>\n",
       "      <td>15</td>\n",
       "    </tr>\n",
       "  </tbody>\n",
       "</table>\n",
       "<p>5 rows × 34 columns</p>\n",
       "</div>"
      ],
      "text/plain": [
       "       country  happiness_rank  happiness_score   economy    family    health  \\\n",
       "0       Norway               1            7.537  1.616463  1.533524  0.796667   \n",
       "1      Denmark               2            7.522  1.482383  1.551122  0.792566   \n",
       "2      Iceland               3            7.504  1.480633  1.610574  0.833552   \n",
       "3  Switzerland               4            7.494  1.564980  1.516912  0.858131   \n",
       "4      Finland               5            7.469  1.443572  1.540247  0.809158   \n",
       "\n",
       "    freedom  generosity  corruption  dystopia_residual  ...  Quintile ratio  \\\n",
       "0  0.635423    0.362012    0.315964           2.277027  ...             4.1   \n",
       "1  0.626007    0.355280    0.400770           2.313707  ...             4.0   \n",
       "2  0.627163    0.475540    0.153527           2.322715  ...             3.6   \n",
       "3  0.620071    0.290549    0.367007           2.276716  ...             5.2   \n",
       "4  0.617951    0.245483    0.382612           2.430182  ...             3.9   \n",
       "\n",
       "   Palma ratio   Gini coefficient  HDI rank  Human Development Index  \\\n",
       "0           1.0              27.5         1                    0.953   \n",
       "1           1.0              28.2        11                    0.929   \n",
       "2           0.9              25.6         6                    0.935   \n",
       "3           1.3              32.5         2                    0.944   \n",
       "4           1.0              27.1        15                    0.920   \n",
       "\n",
       "   Life expectancy at birth [years]  Expected years of schooling [years]  \\\n",
       "0                              82.3                                 17.9   \n",
       "1                              80.9                                 19.1   \n",
       "2                              82.9                                 19.3   \n",
       "3                              83.5                                 16.2   \n",
       "4                              81.5                                 17.6   \n",
       "\n",
       "  Mean years of schooling [years] Gross national income (GNI) per capita [$]  \\\n",
       "0                            12.6                                     68,012   \n",
       "1                            12.6                                     47,918   \n",
       "2                            12.4                                     45,810   \n",
       "3                            13.4                                     57,625   \n",
       "4                            12.4                                     41,002   \n",
       "\n",
       "   HDI  Rank 2016  \n",
       "0               1  \n",
       "1              10  \n",
       "2               6  \n",
       "3               2  \n",
       "4              15  \n",
       "\n",
       "[5 rows x 34 columns]"
      ]
     },
     "execution_count": 5,
     "metadata": {},
     "output_type": "execute_result"
    }
   ],
   "source": [
    "df.head()"
   ]
  },
  {
   "cell_type": "code",
   "execution_count": 6,
   "metadata": {},
   "outputs": [
    {
     "data": {
      "text/plain": [
       "<matplotlib.axes._subplots.AxesSubplot at 0x29e65ce0c08>"
      ]
     },
     "execution_count": 6,
     "metadata": {},
     "output_type": "execute_result"
    },
    {
     "data": {
      "image/png": "[encoded data removed]",
      "text/plain": [
       "<Figure size 432x288 with 1 Axes>"
      ]
     },
     "metadata": {
      "needs_background": "light"
     },
     "output_type": "display_data"
    }
   ],
   "source": [
    "df.plot.scatter(x=\"happiness_score\", y=\"economy\")#, c=df.happiness_score)"
   ]
  },
  {
   "cell_type": "code",
   "execution_count": 7,
   "metadata": {},
   "outputs": [
    {
     "data": {
      "text/plain": [
       "Index(['country', 'happiness_rank', 'happiness_score', 'economy', 'family',\n",
       "       'health', 'freedom', 'generosity', 'corruption', 'dystopia_residual',\n",
       "       'internet_access_population[%]', 'cellular_subscriptions',\n",
       "       'surplus_deficit_GDP[%]', 'familiy_income_gini_coeff',\n",
       "       'GDP_per_capita[$]', 'inflation_rate[%]', 'military_expenditures[%]',\n",
       "       'map_reference', 'biggest_official_language', 'population',\n",
       "       'Inequality-adjusted HDI (IHDI)', 'Inequality in life expectancy [%]',\n",
       "       'Inequality in education [%]', 'Inequality in income [%]',\n",
       "       'Quintile ratio', 'Palma ratio ', 'Gini coefficient', 'HDI rank',\n",
       "       'Human Development Index', 'Life expectancy at birth [years]',\n",
       "       'Expected years of schooling [years]',\n",
       "       'Mean years of schooling [years]',\n",
       "       'Gross national income (GNI) per capita [$]', 'HDI  Rank 2016'],\n",
       "      dtype='object')"
      ]
     },
     "execution_count": 7,
     "metadata": {},
     "output_type": "execute_result"
    }
   ],
   "source": [
    "df.columns"
   ]
  },
  {
   "cell_type": "code",
   "execution_count": 23,
   "metadata": {
    "scrolled": false
   },
   "outputs": [
    {
     "data": {
      "image/png": "[encoded data removed]",
      "text/plain": [
       "<Figure size 720x576 with 1 Axes>"
      ]
     },
     "metadata": {
      "needs_background": "light"
     },
     "output_type": "display_data"
    }
   ],
   "source": [
    "plt.rcParams['figure.figsize'] = [10, 8]\n",
    "first = 'freedom'\n",
    "second = 'internet_access_population[%]'\n",
    "colors = np.array([[165,0,38],[215,48,39],[244,109,67],[253,174,97],[254,224,139],[255,255,191],[217,239,139],[166,217,106],[102,189,99],[26,152,80],[0,104,55]])/255\n",
    "colors = np.flipud(colors)\n",
    "ax = df.iloc[0:10].plot.scatter(x=first, y=second, color=colors[0:1], label='1-10');\n",
    "for i in range(int(len(df)/15 -1)):\n",
    "    ax = df.iloc[(i+1)*15:(i+2)*15].plot.scatter(x=first, y=second, color=colors[i+1:i+2], label=str((i+1)*15) + '-' + str((i+2)*15), ax=ax);\n",
    "df.iloc[(i+2)*15:].plot.scatter(x=first, y=second, color=colors[-2:-1], label=str((i+2)*15) + '-' + str(len(df)), ax=ax);\n",
    "ax.get_legend().set_bbox_to_anchor((0.159, .59))\n",
    "plt.savefig(\"./freedom_x_internetaccess.svg\", \n",
    "               bbox_inches='tight',transparent=False, pad_inches=0.1)"
   ]
  },
  {
   "cell_type": "code",
   "execution_count": null,
   "metadata": {},
   "outputs": [],
   "source": [
    "\n"
   ]
  }
 ],
 "metadata": {
  "kernelspec": {
   "display_name": "Python 3",
   "language": "python",
   "name": "python3"
  },
  "language_info": {
   "codemirror_mode": {
    "name": "ipython",
    "version": 3
   },
   "file_extension": ".py",
   "mimetype": "text/x-python",
   "name": "python",
   "nbconvert_exporter": "python",
   "pygments_lexer": "ipython3",
   "version": "3.7.5"
  }
 },
 "nbformat": 4,
 "nbformat_minor": 2
}
